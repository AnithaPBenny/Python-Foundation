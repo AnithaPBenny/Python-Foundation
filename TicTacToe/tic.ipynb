{
 "cells": [
  {
   "cell_type": "code",
   "execution_count": 22,
   "metadata": {},
   "outputs": [],
   "source": [
    "import random\n",
    "board = [[' ' for _ in range(3)] for _ in range(3)]\n",
    "positions = ['X', 'O']"
   ]
  },
  {
   "cell_type": "code",
   "execution_count": 27,
   "metadata": {},
   "outputs": [],
   "source": [
    "def display_board():\n",
    "    for row in board:\n",
    "        print(\" | \".join(cell if cell else ' ' for cell in row))\n",
    "        print(\"-\" * 9)"
   ]
  },
  {
   "cell_type": "code",
   "execution_count": 28,
   "metadata": {},
   "outputs": [
    {
     "name": "stdout",
     "output_type": "stream",
     "text": [
      "  |   |  \n",
      "  |   |  \n",
      "  |   |  \n",
      "---------\n"
     ]
    }
   ],
   "source": [
    "display_board()"
   ]
  },
  {
   "cell_type": "code",
   "execution_count": 17,
   "metadata": {},
   "outputs": [],
   "source": [
    "def check_winner(symbol):\n",
    "    for row in range(3):\n",
    "        if all(board[row][col] == symbol for col in range(3)): \n",
    "            return True\n",
    "    for col in range(3):\n",
    "        if all(board[row][col] == symbol for row in range(3)): \n",
    "            return True\n",
    "    if all(board[i][i] == symbol for i in range(3)): \n",
    "        return True\n",
    "    if all(board[i][2-i] == symbol for i in range(3)): \n",
    "        return True\n",
    "    return False"
   ]
  },
  {
   "cell_type": "code",
   "execution_count": 18,
   "metadata": {},
   "outputs": [],
   "source": [
    "def is_board_full():\n",
    "    return all(board[row][col] != ' ' for row in range(3) for col in range(3))"
   ]
  },
  {
   "cell_type": "code",
   "execution_count": 19,
   "metadata": {},
   "outputs": [],
   "source": [
    "def computer(inp):\n",
    "    empty_positions = [(row, col) for row in range(3) for col in range(3) if board[row][col] == ' ']\n",
    "    \n",
    "    if empty_positions:\n",
    "        row, col = random.choice(empty_positions)\n",
    "        board[row][col] = inp  \n",
    "        print(\"Computer's move:\")\n",
    "        display_board()   \n",
    "    if check_winner(inp):\n",
    "        print(\"Computer wins!\")\n",
    "        return True    \n",
    "    if is_board_full():\n",
    "        print(\"Game Over! It's a tie.\")\n",
    "        return True\n",
    "\n",
    "    return False"
   ]
  },
  {
   "cell_type": "code",
   "execution_count": 20,
   "metadata": {},
   "outputs": [],
   "source": [
    "def human(pos, inp):\n",
    "    if pos < 0 or pos > 8:\n",
    "        print(\"Invalid position, must be between 0 and 8.\")\n",
    "        return False   \n",
    "    row, col = divmod(pos, 3)  \n",
    "    if board[row][col] == ' ':\n",
    "        board[row][col] = inp\n",
    "        print(\"Your move:\")\n",
    "        display_board()\n",
    "        return True \n",
    "    else:\n",
    "        print(\"This position is already taken, try again.\")\n",
    "        return False"
   ]
  },
  {
   "cell_type": "code",
   "execution_count": 21,
   "metadata": {},
   "outputs": [
    {
     "name": "stdout",
     "output_type": "stream",
     "text": [
      "Your move:\n",
      "  |   |  \n",
      "--------\n",
      "  |   | X\n",
      "--------\n",
      "  |   |  \n",
      "--------\n",
      "Computer's move:\n",
      "  | O |  \n",
      "--------\n",
      "  |   | X\n",
      "--------\n",
      "  |   |  \n",
      "--------\n",
      "Your move:\n",
      "  | O |  \n",
      "--------\n",
      "  |   | X\n",
      "--------\n",
      "X |   |  \n",
      "--------\n",
      "Computer's move:\n",
      "O | O |  \n",
      "--------\n",
      "  |   | X\n",
      "--------\n",
      "X |   |  \n",
      "--------\n",
      "Your move:\n",
      "O | O |  \n",
      "--------\n",
      "  |   | X\n",
      "--------\n",
      "X |   | X\n",
      "--------\n",
      "Computer's move:\n",
      "O | O |  \n",
      "--------\n",
      "  |   | X\n",
      "--------\n",
      "X | O | X\n",
      "--------\n",
      "Your move:\n",
      "O | O |  \n",
      "--------\n",
      "X |   | X\n",
      "--------\n",
      "X | O | X\n",
      "--------\n",
      "Computer's move:\n",
      "O | O | O\n",
      "--------\n",
      "X |   | X\n",
      "--------\n",
      "X | O | X\n",
      "--------\n",
      "Computer wins!\n"
     ]
    }
   ],
   "source": [
    "def player():\n",
    "    while True:\n",
    "        inp = input(\"Choose your symbol ('X' or 'O'): \").upper()\n",
    "        if inp not in positions:\n",
    "            print(\"Invalid choice! Please enter 'X' or 'O'.\")\n",
    "        else:\n",
    "            break\n",
    "\n",
    "    computer_symbol = 'O' if inp == 'X' else 'X' \n",
    "    # Main game loop\n",
    "    while True:\n",
    "        while True: \n",
    "            try:\n",
    "                pos = int(input(\"Enter position between 0 and 8: \"))\n",
    "                if human(pos, inp): \n",
    "                    break\n",
    "            except ValueError:\n",
    "                print(\"Please enter a valid integer for the position.\")\n",
    "        \n",
    "        if check_winner(inp):\n",
    "            print(\"Congratulations! You win!\")\n",
    "            break       \n",
    "        if is_board_full():\n",
    "            print(\"Game Over! It's a tie.\")\n",
    "            break\n",
    "        if computer(computer_symbol): \n",
    "            break\n",
    "player()"
   ]
  }
 ],
 "metadata": {
  "kernelspec": {
   "display_name": "Python 3",
   "language": "python",
   "name": "python3"
  },
  "language_info": {
   "codemirror_mode": {
    "name": "ipython",
    "version": 3
   },
   "file_extension": ".py",
   "mimetype": "text/x-python",
   "name": "python",
   "nbconvert_exporter": "python",
   "pygments_lexer": "ipython3",
   "version": "3.11.5"
  }
 },
 "nbformat": 4,
 "nbformat_minor": 2
}
