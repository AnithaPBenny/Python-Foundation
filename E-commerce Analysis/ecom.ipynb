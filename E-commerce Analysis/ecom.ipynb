{
 "cells": [
  {
   "cell_type": "markdown",
   "metadata": {},
   "source": [
    "The \"E-commerce Sales Analysis System\" project processes transaction data from an e-commerce website, analyzes sales performance, \n",
    "\n",
    "calculates various metrics like total revenue, top-selling products, customer trends, and generates reports."
   ]
  },
  {
   "cell_type": "code",
   "execution_count": 137,
   "metadata": {},
   "outputs": [],
   "source": [
    "from collections import Counter\n",
    "from datetime import datetime"
   ]
  },
  {
   "cell_type": "code",
   "execution_count": 138,
   "metadata": {},
   "outputs": [],
   "source": [
    "transaction = [{'order_id': 1, 'customer_id': 111, 'product_name': 'box', 'quantity': 1, 'price': 2000, 'date': '2002-10-20', 'seller' : 'camel'},\n",
    "               {'order_id': 2, 'customer_id': 112, 'product_name': 'pencil', 'quantity': 2, 'price': 2, 'date': '2002-10-22', 'seller' : 'doms'},\n",
    "               {'order_id': 3, 'customer_id': 113, 'product_name': 'box', 'quantity': 3, 'price': 2000, 'date': '2002-10-23', 'seller' : 'camel'},\n",
    "               {'order_id': 4, 'customer_id': 114, 'product_name': 'pencil', 'quantity': 4, 'price': 2, 'date': '2002-10-24', 'seller' : 'doms'},\n",
    "               {'order_id': 5, 'customer_id': 115, 'product_name': 'notebook', 'quantity': 2, 'price': 5, 'date': '2002-10-25', 'seller' : 'doms'}\n",
    "            ]\n",
    "prod_details = {}"
   ]
  },
  {
   "cell_type": "code",
   "execution_count": 139,
   "metadata": {},
   "outputs": [],
   "source": [
    "def total_revenue(transaction):\n",
    "   print('\\nTotal Revenue = ',sum(item['price'] * item['quantity'] for item in transaction))"
   ]
  },
  {
   "cell_type": "code",
   "execution_count": 140,
   "metadata": {},
   "outputs": [],
   "source": [
    "def top_sell_pdt(transaction):\n",
    "    quantities = Counter(item['product_name'] for item in transaction)\n",
    "    sorted_products = quantities.most_common()\n",
    "    print(\"\\nTop selling products: \")\n",
    "    for product, quantity in sorted_products:\n",
    "        print(f'Product: {product} & Quantity: {quantity}')"
   ]
  },
  {
   "cell_type": "code",
   "execution_count": 141,
   "metadata": {},
   "outputs": [],
   "source": [
    "def filter_by_date(transaction):\n",
    "    f_date = datetime.strptime(input('Enter start date (YYYY-MM-DD): '), '%Y-%m-%d')\n",
    "    l_date = datetime.strptime(input('Enter end date (YYYY-MM-DD): '), '%Y-%m-%d')\n",
    "    filtered_lst = list(filter(lambda x: f_date <= datetime.strptime(x['date'], '%Y-%m-%d') <= l_date, transaction))\n",
    "    print(filtered_lst)"
   ]
  },
  {
   "cell_type": "code",
   "execution_count": 142,
   "metadata": {},
   "outputs": [],
   "source": [
    "def aov(transaction):\n",
    "    total_orders = len(transaction)\n",
    "    revenue = sum(item['quantity'] * item['price'] for item in transaction)\n",
    "    avg_order_value = revenue / total_orders if total_orders > 0 else 0\n",
    "    print(f'Average Order Value: {avg_order_value:.2f}')"
   ]
  },
  {
   "cell_type": "code",
   "execution_count": 143,
   "metadata": {},
   "outputs": [],
   "source": [
    "def repetitive_customer(transaction):\n",
    "    customer_count = Counter([item['customer_id'] for item in transaction])\n",
    "    most_frequent_customer = customer_count.most_common(1)\n",
    "    if most_frequent_customer:\n",
    "        print(f'Most frequent customer ID: {most_frequent_customer[0][0]}, Orders: {most_frequent_customer[0][1]}')\n",
    "    else:\n",
    "        print('No customers found')"
   ]
  },
  {
   "cell_type": "code",
   "execution_count": 144,
   "metadata": {},
   "outputs": [],
   "source": [
    "def generate_report(transaction):\n",
    "    print(\"\\nSales Report\")\n",
    "    for item in transaction:\n",
    "        order_id = item['order_id']\n",
    "        product_name = item['product_name']\n",
    "        price = item['price']\n",
    "        quantity = item['quantity']\n",
    "        total_price = quantity * price\n",
    "        \n",
    "        print(f'\\nOrder ID: {order_id}')\n",
    "        print(f'Product Name: {product_name}')\n",
    "        print(f'price: {price}')\n",
    "        print(f'quantity: {quantity}')\n",
    "        print(f'Total Price: {total_price}')"
   ]
  },
  {
   "cell_type": "code",
   "execution_count": 145,
   "metadata": {},
   "outputs": [],
   "source": [
    "def popularity(transaction):\n",
    "    product_count = Counter([item['product_name'] for item in transaction])\n",
    "    most_purchased_items = product_count.most_common()  \n",
    "    print('Most popular items: ')\n",
    "    for product, quantity in most_purchased_items:\n",
    "        print(f'Product: {product}, Quantity Sold: {quantity}')"
   ]
  },
  {
   "cell_type": "code",
   "execution_count": 146,
   "metadata": {},
   "outputs": [],
   "source": [
    "def get_user_choice():\n",
    "    try:\n",
    "        choice = int(input(\"Enter your choice: \"))\n",
    "        return choice\n",
    "    except ValueError:\n",
    "        print(\"Please enter a valid integer.\")\n",
    "        return None"
   ]
  },
  {
   "cell_type": "code",
   "execution_count": 147,
   "metadata": {},
   "outputs": [],
   "source": [
    "def menu():\n",
    "    print('\\nE-Commerce Analysis System')\n",
    "    print('1.Total Revenue')\n",
    "    print('2.Top selling product')\n",
    "    print('3.Transactions by date')\n",
    "    print('4.Average Order Value')\n",
    "    print('5.Active Customer')\n",
    "    print('6.Generate report')\n",
    "    print('7.Popular products')\n",
    "    print('8.Exit')"
   ]
  },
  {
   "cell_type": "code",
   "execution_count": 148,
   "metadata": {},
   "outputs": [],
   "source": [
    "def main():\n",
    "    while True:\n",
    "        menu()\n",
    "        choice = get_user_choice()\n",
    "\n",
    "        if choice == 1:\n",
    "            total_revenue(transaction)\n",
    "        elif choice == 2:\n",
    "            top_sell_pdt(transaction)\n",
    "        elif choice == 3:\n",
    "            filter_by_date(transaction)\n",
    "        elif choice == 4:\n",
    "            aov(transaction)\n",
    "        elif choice == 5:\n",
    "            repetitive_customer(transaction)\n",
    "        elif choice == 6:\n",
    "            generate_report(transaction)\n",
    "        elif choice == 7:\n",
    "            popularity(transaction)\n",
    "        elif choice == 8:\n",
    "            break\n",
    "        else:\n",
    "            print(\"Invalid choice.\\n\")\n"
   ]
  },
  {
   "cell_type": "code",
   "execution_count": 149,
   "metadata": {},
   "outputs": [
    {
     "name": "stdout",
     "output_type": "stream",
     "text": [
      "\n",
      "E-Commerce Analysis System\n",
      "1.Total Revenue\n",
      "2.Top selling product\n",
      "3.Transactions by date\n",
      "4.Average Order Value\n",
      "5.Active Customer\n",
      "6.Generate report\n",
      "7.Popular products\n",
      "8.Exit\n",
      "[{'order_id': 1, 'customer_id': 111, 'product_name': 'box', 'quantity': 1, 'price': 2000, 'date': '2002-10-20', 'seller': 'camel'}, {'order_id': 2, 'customer_id': 112, 'product_name': 'pencil', 'quantity': 2, 'price': 2, 'date': '2002-10-22', 'seller': 'doms'}, {'order_id': 3, 'customer_id': 113, 'product_name': 'box', 'quantity': 3, 'price': 2000, 'date': '2002-10-23', 'seller': 'camel'}, {'order_id': 4, 'customer_id': 114, 'product_name': 'pencil', 'quantity': 4, 'price': 2, 'date': '2002-10-24', 'seller': 'doms'}]\n",
      "\n",
      "E-Commerce Analysis System\n",
      "1.Total Revenue\n",
      "2.Top selling product\n",
      "3.Transactions by date\n",
      "4.Average Order Value\n",
      "5.Active Customer\n",
      "6.Generate report\n",
      "7.Popular products\n",
      "8.Exit\n"
     ]
    }
   ],
   "source": [
    "main()"
   ]
  },
  {
   "cell_type": "code",
   "execution_count": null,
   "metadata": {},
   "outputs": [],
   "source": []
  }
 ],
 "metadata": {
  "kernelspec": {
   "display_name": "Python 3",
   "language": "python",
   "name": "python3"
  },
  "language_info": {
   "codemirror_mode": {
    "name": "ipython",
    "version": 3
   },
   "file_extension": ".py",
   "mimetype": "text/x-python",
   "name": "python",
   "nbconvert_exporter": "python",
   "pygments_lexer": "ipython3",
   "version": "3.11.5"
  }
 },
 "nbformat": 4,
 "nbformat_minor": 2
}
